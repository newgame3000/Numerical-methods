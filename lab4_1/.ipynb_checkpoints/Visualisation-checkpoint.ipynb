{
 "cells": [
  {
   "cell_type": "code",
   "execution_count": 280,
   "id": "e1ffd91e-abc1-4f83-bb74-f0d969c884fc",
   "metadata": {},
   "outputs": [],
   "source": [
    "import matplotlib.pyplot as plt\n",
    "import math\n",
    "import numpy as np"
   ]
  },
  {
   "cell_type": "markdown",
   "id": "7b36c654-541a-432e-bd72-69fe83cf4fba",
   "metadata": {},
   "source": [
    "# Метод Эйлера"
   ]
  },
  {
   "cell_type": "code",
   "execution_count": 281,
   "id": "b5a7d14d-51af-44a0-a493-b3389474f269",
   "metadata": {},
   "outputs": [],
   "source": [
    "x = []\n",
    "y = []\n",
    "f = open('eul.txt', 'r')\n",
    "k = 0\n",
    "\n",
    "for line in f:\n",
    "    if k == 0:\n",
    "        x.append(float(line))\n",
    "        k = 1\n",
    "    else:\n",
    "        y.append(float(line))\n",
    "        k = 0\n",
    "f.close()"
   ]
  },
  {
   "cell_type": "code",
   "execution_count": 288,
   "id": "a370f404-476d-48cc-9096-08a5da680d23",
   "metadata": {},
   "outputs": [],
   "source": [
    "correct_x = np.linspace(0, 1, 100)\n",
    "correct_y =  1 / np.cos(correct_x) + np.sin(correct_x) + (correct_x) / np.cos(correct_x)"
   ]
  },
  {
   "cell_type": "code",
   "execution_count": 289,
   "id": "3f87bb77-4dd0-418b-bcff-54c724c0fed3",
   "metadata": {},
   "outputs": [
    {
     "data": {
      "text/plain": [
       "[<matplotlib.lines.Line2D at 0x7ff697c29040>]"
      ]
     },
     "execution_count": 289,
     "metadata": {},
     "output_type": "execute_result"
    },
    {
     "data": {
      "image/png": "[encoded data removed]",
      "text/plain": [
       "<Figure size 432x288 with 1 Axes>"
      ]
     },
     "metadata": {
      "needs_background": "light"
     },
     "output_type": "display_data"
    }
   ],
   "source": [
    "plt.plot(correct_x, correct_y)\n",
    "plt.plot(x, y,'ro-')"
   ]
  },
  {
   "cell_type": "markdown",
   "id": "e94a047d-d497-4693-b49d-48032ccdcba1",
   "metadata": {},
   "source": [
    "# Метод Рунге-Кутта"
   ]
  },
  {
   "cell_type": "code",
   "execution_count": 290,
   "id": "e9ed174a-7074-4257-92a9-ba7c942431df",
   "metadata": {},
   "outputs": [],
   "source": [
    "x = []\n",
    "y = []\n",
    "f = open('runge.txt', 'r')\n",
    "k = 0\n",
    "\n",
    "for line in f:\n",
    "    if k == 0:\n",
    "        x.append(float(line))\n",
    "        k = 1\n",
    "    else:\n",
    "        y.append(float(line))\n",
    "        k = 0\n",
    "f.close()"
   ]
  },
  {
   "cell_type": "code",
   "execution_count": 291,
   "id": "1ed182a7-2533-4439-93be-2608352f59c7",
   "metadata": {},
   "outputs": [
    {
     "data": {
      "text/plain": [
       "[<matplotlib.lines.Line2D at 0x7ff697bfed00>]"
      ]
     },
     "execution_count": 291,
     "metadata": {},
     "output_type": "execute_result"
    },
    {
     "data": {
      "image/png": "[encoded data removed]",
      "text/plain": [
       "<Figure size 432x288 with 1 Axes>"
      ]
     },
     "metadata": {
      "needs_background": "light"
     },
     "output_type": "display_data"
    }
   ],
   "source": [
    "plt.plot(x, y,'ro-')\n",
    "plt.plot(correct_x, correct_y)"
   ]
  },
  {
   "cell_type": "markdown",
   "id": "039c9923-d95d-4084-a121-80965914da02",
   "metadata": {},
   "source": [
    "# Метод Адамса"
   ]
  },
  {
   "cell_type": "code",
   "execution_count": 292,
   "id": "057e4361-fea6-471a-8f91-6a0d26bafaba",
   "metadata": {},
   "outputs": [],
   "source": [
    "x = []\n",
    "y = []\n",
    "f = open('adams.txt', 'r')\n",
    "k = 0\n",
    "\n",
    "for line in f:\n",
    "    if k == 0:\n",
    "        x.append(float(line))\n",
    "        k = 1\n",
    "    else:\n",
    "        y.append(float(line))\n",
    "        k = 0\n",
    "f.close()"
   ]
  },
  {
   "cell_type": "code",
   "execution_count": 293,
   "id": "649261cc-e8f9-4629-a505-c2f8f9035ac9",
   "metadata": {},
   "outputs": [
    {
     "data": {
      "text/plain": [
       "[<matplotlib.lines.Line2D at 0x7ff697b6e220>]"
      ]
     },
     "execution_count": 293,
     "metadata": {},
     "output_type": "execute_result"
    },
    {
     "data": {
      "image/png": "[encoded data removed]",
      "text/plain": [
       "<Figure size 432x288 with 1 Axes>"
      ]
     },
     "metadata": {
      "needs_background": "light"
     },
     "output_type": "display_data"
    }
   ],
   "source": [
    "plt.plot(x, y, 'ro-')\n",
    "plt.plot(correct_x, correct_y)"
   ]
  },
  {
   "cell_type": "code",
   "execution_count": null,
   "id": "a8f499c1-00ec-4f04-afe3-c3c81014e7da",
   "metadata": {},
   "outputs": [],
   "source": []
  },
  {
   "cell_type": "code",
   "execution_count": null,
   "id": "ea3aae4e-22f8-45b5-a191-3dd28f3a68bc",
   "metadata": {},
   "outputs": [],
   "source": []
  },
  {
   "cell_type": "code",
   "execution_count": null,
   "id": "a524cff3-aec3-4658-973e-70c85dc4bba0",
   "metadata": {},
   "outputs": [],
   "source": []
  }
 ],
 "metadata": {
  "kernelspec": {
   "display_name": "Python 3 (ipykernel)",
   "language": "python",
   "name": "python3"
  },
  "language_info": {
   "codemirror_mode": {
    "name": "ipython",
    "version": 3
   },
   "file_extension": ".py",
   "mimetype": "text/x-python",
   "name": "python",
   "nbconvert_exporter": "python",
   "pygments_lexer": "ipython3",
   "version": "3.8.10"
  }
 },
 "nbformat": 4,
 "nbformat_minor": 5
}
